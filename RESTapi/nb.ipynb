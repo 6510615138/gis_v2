{
 "cells": [
  {
   "cell_type": "code",
   "execution_count": 1,
   "id": "b777d223",
   "metadata": {},
   "outputs": [
    {
     "ename": "ImportError",
     "evalue": "attempted relative import with no known parent package",
     "output_type": "error",
     "traceback": [
      "\u001b[1;31m---------------------------------------------------------------------------\u001b[0m",
      "\u001b[1;31mImportError\u001b[0m                               Traceback (most recent call last)",
      "Cell \u001b[1;32mIn[1], line 1\u001b[0m\n\u001b[1;32m----> 1\u001b[0m \u001b[38;5;28;01mfrom\u001b[39;00m\u001b[38;5;250m \u001b[39m\u001b[38;5;21;01m.\u001b[39;00m\u001b[38;5;21;01mutils\u001b[39;00m\u001b[38;5;250m \u001b[39m\u001b[38;5;28;01mimport\u001b[39;00m get_union_coordinates \n\u001b[0;32m      2\u001b[0m \u001b[38;5;28;01mfrom\u001b[39;00m\u001b[38;5;250m \u001b[39m\u001b[38;5;21;01m.\u001b[39;00m\u001b[38;5;21;01mmodels\u001b[39;00m\u001b[38;5;250m \u001b[39m\u001b[38;5;28;01mimport\u001b[39;00m Factory  \u001b[38;5;66;03m# factory contain lat , lng field represent latitute and longtitute of the factory\u001b[39;00m\n\u001b[0;32m      3\u001b[0m \u001b[38;5;66;03m# Expects code to be in format list ex [10,12,14,16]\u001b[39;00m\n",
      "\u001b[1;31mImportError\u001b[0m: attempted relative import with no known parent package"
     ]
    }
   ],
   "source": [
    "from .utils import get_union_coordinates \n",
    "from .models import Factory  # factory contain lat , lng field represent latitute and longtitute of the factory\n",
    "# Expects code to be in format list ex [10,12,14,16]\n",
    "from shapely.geometry import shape, Point, Polygon\n",
    "import shapely\n",
    "import json"
   ]
  },
  {
   "cell_type": "code",
   "execution_count": null,
   "id": "1bd963bd",
   "metadata": {},
   "outputs": [],
   "source": [
    "def find_business_from_code(codes):\n",
    "    if len(codes) < 1:\n",
    "        return []\n",
    "\n",
    "    geojson = get_union_coordinates(codes)  # return GeoJSON geometry string\n",
    "    json_str:dict = json.loads(geojson)\n",
    "    polygon = shape(json_str)   # convert GeoJSON to shapely Polygon\n",
    "    factories = Factory.objects.all() # get all factory\n",
    "    matched_factories = [] # array to store factory within the polygon\n",
    "\n",
    "    error = 0\n",
    "    for factory in factories:\n",
    "        long = factory.long\n",
    "        lat = factory.lat\n",
    "        try:\n",
    "            if type(lat) == \"str\" or type(long) == \"str\" :\n",
    "                long = float(factory.long)\n",
    "                lat = float(factory.lat)\n",
    "            point = Point(long, lat)  # Create a point in shaply shapely uses (x=lng, y=lat)\n",
    "        except:\n",
    "            # print(f\"error on factory {factory.name} (lat: {lat} long: {long})\")\n",
    "            error += 1\n",
    "            continue\n",
    "        if shapely.contains(polygon ,point):# if point in polygon\n",
    "            matched_factories.append(factory)\n",
    "            print(f\"appended factory {factory.name} (lat: {lat} long: {long})\")\n",
    "    print(f\"error : {error}\")\n",
    "    print(f\"matched : {len(matched_factories)}\")\n",
    "    return matched_factories"
   ]
  }
 ],
 "metadata": {
  "kernelspec": {
   "display_name": ".venv",
   "language": "python",
   "name": "python3"
  },
  "language_info": {
   "codemirror_mode": {
    "name": "ipython",
    "version": 3
   },
   "file_extension": ".py",
   "mimetype": "text/x-python",
   "name": "python",
   "nbconvert_exporter": "python",
   "pygments_lexer": "ipython3",
   "version": "3.10.11"
  }
 },
 "nbformat": 4,
 "nbformat_minor": 5
}
